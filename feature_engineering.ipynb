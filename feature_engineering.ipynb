{
 "cells": [
  {
   "cell_type": "markdown",
   "metadata": {
    "collapsed": true,
    "pycharm": {
     "name": "#%% md\n"
    }
   },
   "source": [
    "# Feature engineering\n",
    "\n",
    "In this notebook, I try making various features prior to giving them to a linear classifier, as expected in the course.\n",
    "\n",
    "Need a unified handling of the feature making:\n",
    "* Expected input: the dataframe with time as index and every other features as columns. \n",
    "* Expected output: the datagrame with **the same index**. The columns can be anything:\n",
    "    * Name of the feature, if the feature apply for **all** windfarms.\n",
    "    > Example: mean of the temperature across all WF. `n_rows, 1` with column name being `mean_temperature` \n",
    "    * Multiindex with nume of the feature, windfarm (name: `WF`) if it is specific to each windfarm.\n",
    "    > Example: temperature for each WF. `n_rows, 6` with columns being:\n",
    "    >\n",
    "    > `WF    1    2    3    4    5    6` \n",
    "    >\n",
    "    > `var   mean_temperature`"
   ]
  },
  {
   "cell_type": "markdown",
   "source": [
    "## Mean values\n",
    "\n",
    "We start by simply taking the mean values for each windfarms."
   ],
   "metadata": {
    "collapsed": false,
    "pycharm": {
     "name": "#%% md\n"
    }
   }
  },
  {
   "cell_type": "code",
   "execution_count": null,
   "outputs": [],
   "source": [],
   "metadata": {
    "collapsed": false,
    "pycharm": {
     "name": "#%%\n"
    }
   }
  }
 ],
 "metadata": {
  "kernelspec": {
   "display_name": "Python 3",
   "language": "python",
   "name": "python3"
  },
  "language_info": {
   "codemirror_mode": {
    "name": "ipython",
    "version": 2
   },
   "file_extension": ".py",
   "mimetype": "text/x-python",
   "name": "python",
   "nbconvert_exporter": "python",
   "pygments_lexer": "ipython2",
   "version": "2.7.6"
  },
  "pycharm": {
   "stem_cell": {
    "cell_type": "raw",
    "source": [],
    "metadata": {
     "collapsed": false
    }
   }
  }
 },
 "nbformat": 4,
 "nbformat_minor": 0
}